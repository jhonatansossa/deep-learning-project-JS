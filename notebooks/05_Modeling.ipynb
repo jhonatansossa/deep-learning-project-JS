{
  "cells": [
    {
      "cell_type": "code",
      "execution_count": 1,
      "metadata": {
        "colab": {
          "base_uri": "https://localhost:8080/"
        },
        "id": "6z1F_BUmsYnu",
        "outputId": "8d0cdde4-1749-46bc-b215-6cae6a90cdff"
      },
      "outputs": [
        {
          "name": "stdout",
          "output_type": "stream",
          "text": [
            "Drive already mounted at /content/drive; to attempt to forcibly remount, call drive.mount(\"/content/drive\", force_remount=True).\n"
          ]
        }
      ],
      "source": [
        "! git clone https://github.com/jhonatansossa/deep-learning-project-JS.git"
      ]
    },
    {
      "cell_type": "markdown",
      "metadata": {
        "id": "bx3ulO7qsXab"
      },
      "source": [
        "#### Dependencias"
      ]
    },
    {
      "cell_type": "code",
      "execution_count": 2,
      "metadata": {
        "colab": {
          "base_uri": "https://localhost:8080/"
        },
        "id": "Ya8Mss6hrfcO",
        "outputId": "1ae66875-2c09-45ba-e2d4-27e24810d99b"
      },
      "outputs": [
        {
          "name": "stdout",
          "output_type": "stream",
          "text": [
            "setting tensorflow version in colab\n",
            "Colab only includes TensorFlow 2.x; %tensorflow_version has no effect.\n"
          ]
        }
      ],
      "source": [
        "import pandas as pd\n",
        "import numpy as np\n",
        "import matplotlib.pyplot as plt\n",
        "\n",
        "import sys\n",
        "if 'google.colab' in sys.modules:\n",
        "    print (\"setting tensorflow version in colab\")\n",
        "    %tensorflow_version 2.x\n",
        "import tensorflow as tf\n",
        "tf.__version__\n",
        "\n",
        "#import Keras\n",
        "import keras\n",
        "from keras.layers import Dense\n",
        "from keras.models import Sequential\n",
        "from keras.optimizers import Adam \n",
        "from keras.callbacks import EarlyStopping\n",
        "from keras.utils import np_utils\n",
        "from keras.layers import LSTM\n",
        "from sklearn.model_selection import KFold, cross_val_score, train_test_split\n",
        "from sklearn.preprocessing import MinMaxScaler\n",
        "import statsmodels.formula.api as smf\n",
        "import plotly.graph_objs as go\n",
        "import plotly.offline as pyoff\n",
        "import seaborn as sns\n",
        "import xgboost as xgb\n",
        "from sklearn.model_selection import TimeSeriesSplit, GridSearchCV\n",
        "from xgboost import plot_importance, plot_tree\n",
        "from sklearn.metrics import mean_squared_error, mean_absolute_error"
      ]
    },
    {
      "cell_type": "markdown",
      "metadata": {
        "id": "OV5Pdkq5sehl"
      },
      "source": [
        "#### Importar maestro con dummies"
      ]
    },
    {
      "cell_type": "code",
      "execution_count": 3,
      "metadata": {
        "colab": {
          "base_uri": "https://localhost:8080/",
          "height": 661
        },
        "id": "6XykA8O9sxNS",
        "outputId": "90f745da-6262-42a3-c4ac-f22ea2d01c51"
      },
      "outputs": [
        {
          "data": {
            "text/html": [
              "\n",
              "  <div id=\"df-f2ad2adf-0181-4b64-95ad-43119aebba0a\">\n",
              "    <div class=\"colab-df-container\">\n",
              "      <div>\n",
              "<style scoped>\n",
              "    .dataframe tbody tr th:only-of-type {\n",
              "        vertical-align: middle;\n",
              "    }\n",
              "\n",
              "    .dataframe tbody tr th {\n",
              "        vertical-align: top;\n",
              "    }\n",
              "\n",
              "    .dataframe thead th {\n",
              "        text-align: right;\n",
              "    }\n",
              "</style>\n",
              "<table border=\"1\" class=\"dataframe\">\n",
              "  <thead>\n",
              "    <tr style=\"text-align: right;\">\n",
              "      <th></th>\n",
              "      <th>date</th>\n",
              "      <th>store_nbr</th>\n",
              "      <th>sales</th>\n",
              "      <th>onpromotion</th>\n",
              "      <th>rezago_onpromotion_1</th>\n",
              "      <th>rezago_onpromotion_2</th>\n",
              "      <th>rezago_onpromotion_3</th>\n",
              "      <th>rezago_onpromotion_4</th>\n",
              "      <th>cluster</th>\n",
              "      <th>dcoilwtico</th>\n",
              "      <th>...</th>\n",
              "      <th>state_manabi</th>\n",
              "      <th>state_pastaza</th>\n",
              "      <th>state_pichincha</th>\n",
              "      <th>state_santa_elena</th>\n",
              "      <th>state_santo_domingo_de_los_tsachilas</th>\n",
              "      <th>state_tungurahua</th>\n",
              "      <th>type_b</th>\n",
              "      <th>type_c</th>\n",
              "      <th>type_d</th>\n",
              "      <th>type_e</th>\n",
              "    </tr>\n",
              "  </thead>\n",
              "  <tbody>\n",
              "    <tr>\n",
              "      <th>8910</th>\n",
              "      <td>2013-03-10</td>\n",
              "      <td>1</td>\n",
              "      <td>7.000000</td>\n",
              "      <td>0</td>\n",
              "      <td>0.0</td>\n",
              "      <td>0.0</td>\n",
              "      <td>0.0</td>\n",
              "      <td>0.0</td>\n",
              "      <td>13</td>\n",
              "      <td>91.004</td>\n",
              "      <td>...</td>\n",
              "      <td>0</td>\n",
              "      <td>0</td>\n",
              "      <td>1</td>\n",
              "      <td>0</td>\n",
              "      <td>0</td>\n",
              "      <td>0</td>\n",
              "      <td>0</td>\n",
              "      <td>0</td>\n",
              "      <td>1</td>\n",
              "      <td>0</td>\n",
              "    </tr>\n",
              "    <tr>\n",
              "      <th>8911</th>\n",
              "      <td>2013-03-10</td>\n",
              "      <td>1</td>\n",
              "      <td>0.000000</td>\n",
              "      <td>0</td>\n",
              "      <td>0.0</td>\n",
              "      <td>0.0</td>\n",
              "      <td>0.0</td>\n",
              "      <td>0.0</td>\n",
              "      <td>13</td>\n",
              "      <td>91.004</td>\n",
              "      <td>...</td>\n",
              "      <td>0</td>\n",
              "      <td>0</td>\n",
              "      <td>1</td>\n",
              "      <td>0</td>\n",
              "      <td>0</td>\n",
              "      <td>0</td>\n",
              "      <td>0</td>\n",
              "      <td>0</td>\n",
              "      <td>1</td>\n",
              "      <td>0</td>\n",
              "    </tr>\n",
              "    <tr>\n",
              "      <th>8912</th>\n",
              "      <td>2013-03-10</td>\n",
              "      <td>1</td>\n",
              "      <td>12.000000</td>\n",
              "      <td>0</td>\n",
              "      <td>0.0</td>\n",
              "      <td>0.0</td>\n",
              "      <td>0.0</td>\n",
              "      <td>0.0</td>\n",
              "      <td>13</td>\n",
              "      <td>91.004</td>\n",
              "      <td>...</td>\n",
              "      <td>0</td>\n",
              "      <td>0</td>\n",
              "      <td>1</td>\n",
              "      <td>0</td>\n",
              "      <td>0</td>\n",
              "      <td>0</td>\n",
              "      <td>0</td>\n",
              "      <td>0</td>\n",
              "      <td>1</td>\n",
              "      <td>0</td>\n",
              "    </tr>\n",
              "    <tr>\n",
              "      <th>8913</th>\n",
              "      <td>2013-03-10</td>\n",
              "      <td>1</td>\n",
              "      <td>6803.000000</td>\n",
              "      <td>0</td>\n",
              "      <td>0.0</td>\n",
              "      <td>0.0</td>\n",
              "      <td>0.0</td>\n",
              "      <td>0.0</td>\n",
              "      <td>13</td>\n",
              "      <td>91.004</td>\n",
              "      <td>...</td>\n",
              "      <td>0</td>\n",
              "      <td>0</td>\n",
              "      <td>1</td>\n",
              "      <td>0</td>\n",
              "      <td>0</td>\n",
              "      <td>0</td>\n",
              "      <td>0</td>\n",
              "      <td>0</td>\n",
              "      <td>1</td>\n",
              "      <td>0</td>\n",
              "    </tr>\n",
              "    <tr>\n",
              "      <th>8914</th>\n",
              "      <td>2013-03-10</td>\n",
              "      <td>1</td>\n",
              "      <td>0.000000</td>\n",
              "      <td>0</td>\n",
              "      <td>0.0</td>\n",
              "      <td>0.0</td>\n",
              "      <td>0.0</td>\n",
              "      <td>0.0</td>\n",
              "      <td>13</td>\n",
              "      <td>91.004</td>\n",
              "      <td>...</td>\n",
              "      <td>0</td>\n",
              "      <td>0</td>\n",
              "      <td>1</td>\n",
              "      <td>0</td>\n",
              "      <td>0</td>\n",
              "      <td>0</td>\n",
              "      <td>0</td>\n",
              "      <td>0</td>\n",
              "      <td>1</td>\n",
              "      <td>0</td>\n",
              "    </tr>\n",
              "    <tr>\n",
              "      <th>...</th>\n",
              "      <td>...</td>\n",
              "      <td>...</td>\n",
              "      <td>...</td>\n",
              "      <td>...</td>\n",
              "      <td>...</td>\n",
              "      <td>...</td>\n",
              "      <td>...</td>\n",
              "      <td>...</td>\n",
              "      <td>...</td>\n",
              "      <td>...</td>\n",
              "      <td>...</td>\n",
              "      <td>...</td>\n",
              "      <td>...</td>\n",
              "      <td>...</td>\n",
              "      <td>...</td>\n",
              "      <td>...</td>\n",
              "      <td>...</td>\n",
              "      <td>...</td>\n",
              "      <td>...</td>\n",
              "      <td>...</td>\n",
              "      <td>...</td>\n",
              "    </tr>\n",
              "    <tr>\n",
              "      <th>422329</th>\n",
              "      <td>2017-08-13</td>\n",
              "      <td>54</td>\n",
              "      <td>486.995996</td>\n",
              "      <td>10</td>\n",
              "      <td>8.0</td>\n",
              "      <td>9.0</td>\n",
              "      <td>9.0</td>\n",
              "      <td>11.0</td>\n",
              "      <td>3</td>\n",
              "      <td>49.076</td>\n",
              "      <td>...</td>\n",
              "      <td>1</td>\n",
              "      <td>0</td>\n",
              "      <td>0</td>\n",
              "      <td>0</td>\n",
              "      <td>0</td>\n",
              "      <td>0</td>\n",
              "      <td>0</td>\n",
              "      <td>1</td>\n",
              "      <td>0</td>\n",
              "      <td>0</td>\n",
              "    </tr>\n",
              "    <tr>\n",
              "      <th>422330</th>\n",
              "      <td>2017-08-13</td>\n",
              "      <td>54</td>\n",
              "      <td>543.000000</td>\n",
              "      <td>0</td>\n",
              "      <td>0.0</td>\n",
              "      <td>1.0</td>\n",
              "      <td>0.0</td>\n",
              "      <td>0.0</td>\n",
              "      <td>3</td>\n",
              "      <td>49.076</td>\n",
              "      <td>...</td>\n",
              "      <td>1</td>\n",
              "      <td>0</td>\n",
              "      <td>0</td>\n",
              "      <td>0</td>\n",
              "      <td>0</td>\n",
              "      <td>0</td>\n",
              "      <td>0</td>\n",
              "      <td>1</td>\n",
              "      <td>0</td>\n",
              "      <td>0</td>\n",
              "    </tr>\n",
              "    <tr>\n",
              "      <th>422331</th>\n",
              "      <td>2017-08-13</td>\n",
              "      <td>54</td>\n",
              "      <td>4620.846000</td>\n",
              "      <td>91</td>\n",
              "      <td>97.0</td>\n",
              "      <td>118.0</td>\n",
              "      <td>163.0</td>\n",
              "      <td>175.0</td>\n",
              "      <td>3</td>\n",
              "      <td>49.076</td>\n",
              "      <td>...</td>\n",
              "      <td>1</td>\n",
              "      <td>0</td>\n",
              "      <td>0</td>\n",
              "      <td>0</td>\n",
              "      <td>0</td>\n",
              "      <td>0</td>\n",
              "      <td>0</td>\n",
              "      <td>1</td>\n",
              "      <td>0</td>\n",
              "      <td>0</td>\n",
              "    </tr>\n",
              "    <tr>\n",
              "      <th>422332</th>\n",
              "      <td>2017-08-13</td>\n",
              "      <td>54</td>\n",
              "      <td>0.000000</td>\n",
              "      <td>0</td>\n",
              "      <td>0.0</td>\n",
              "      <td>0.0</td>\n",
              "      <td>0.0</td>\n",
              "      <td>0.0</td>\n",
              "      <td>3</td>\n",
              "      <td>49.076</td>\n",
              "      <td>...</td>\n",
              "      <td>1</td>\n",
              "      <td>0</td>\n",
              "      <td>0</td>\n",
              "      <td>0</td>\n",
              "      <td>0</td>\n",
              "      <td>0</td>\n",
              "      <td>0</td>\n",
              "      <td>1</td>\n",
              "      <td>0</td>\n",
              "      <td>0</td>\n",
              "    </tr>\n",
              "    <tr>\n",
              "      <th>422333</th>\n",
              "      <td>2017-08-13</td>\n",
              "      <td>54</td>\n",
              "      <td>21.000000</td>\n",
              "      <td>1</td>\n",
              "      <td>1.0</td>\n",
              "      <td>4.0</td>\n",
              "      <td>6.0</td>\n",
              "      <td>4.0</td>\n",
              "      <td>3</td>\n",
              "      <td>49.076</td>\n",
              "      <td>...</td>\n",
              "      <td>1</td>\n",
              "      <td>0</td>\n",
              "      <td>0</td>\n",
              "      <td>0</td>\n",
              "      <td>0</td>\n",
              "      <td>0</td>\n",
              "      <td>0</td>\n",
              "      <td>1</td>\n",
              "      <td>0</td>\n",
              "      <td>0</td>\n",
              "    </tr>\n",
              "  </tbody>\n",
              "</table>\n",
              "<p>413424 rows × 126 columns</p>\n",
              "</div>\n",
              "      <button class=\"colab-df-convert\" onclick=\"convertToInteractive('df-f2ad2adf-0181-4b64-95ad-43119aebba0a')\"\n",
              "              title=\"Convert this dataframe to an interactive table.\"\n",
              "              style=\"display:none;\">\n",
              "        \n",
              "  <svg xmlns=\"http://www.w3.org/2000/svg\" height=\"24px\"viewBox=\"0 0 24 24\"\n",
              "       width=\"24px\">\n",
              "    <path d=\"M0 0h24v24H0V0z\" fill=\"none\"/>\n",
              "    <path d=\"M18.56 5.44l.94 2.06.94-2.06 2.06-.94-2.06-.94-.94-2.06-.94 2.06-2.06.94zm-11 1L8.5 8.5l.94-2.06 2.06-.94-2.06-.94L8.5 2.5l-.94 2.06-2.06.94zm10 10l.94 2.06.94-2.06 2.06-.94-2.06-.94-.94-2.06-.94 2.06-2.06.94z\"/><path d=\"M17.41 7.96l-1.37-1.37c-.4-.4-.92-.59-1.43-.59-.52 0-1.04.2-1.43.59L10.3 9.45l-7.72 7.72c-.78.78-.78 2.05 0 2.83L4 21.41c.39.39.9.59 1.41.59.51 0 1.02-.2 1.41-.59l7.78-7.78 2.81-2.81c.8-.78.8-2.07 0-2.86zM5.41 20L4 18.59l7.72-7.72 1.47 1.35L5.41 20z\"/>\n",
              "  </svg>\n",
              "      </button>\n",
              "      \n",
              "  <style>\n",
              "    .colab-df-container {\n",
              "      display:flex;\n",
              "      flex-wrap:wrap;\n",
              "      gap: 12px;\n",
              "    }\n",
              "\n",
              "    .colab-df-convert {\n",
              "      background-color: #E8F0FE;\n",
              "      border: none;\n",
              "      border-radius: 50%;\n",
              "      cursor: pointer;\n",
              "      display: none;\n",
              "      fill: #1967D2;\n",
              "      height: 32px;\n",
              "      padding: 0 0 0 0;\n",
              "      width: 32px;\n",
              "    }\n",
              "\n",
              "    .colab-df-convert:hover {\n",
              "      background-color: #E2EBFA;\n",
              "      box-shadow: 0px 1px 2px rgba(60, 64, 67, 0.3), 0px 1px 3px 1px rgba(60, 64, 67, 0.15);\n",
              "      fill: #174EA6;\n",
              "    }\n",
              "\n",
              "    [theme=dark] .colab-df-convert {\n",
              "      background-color: #3B4455;\n",
              "      fill: #D2E3FC;\n",
              "    }\n",
              "\n",
              "    [theme=dark] .colab-df-convert:hover {\n",
              "      background-color: #434B5C;\n",
              "      box-shadow: 0px 1px 3px 1px rgba(0, 0, 0, 0.15);\n",
              "      filter: drop-shadow(0px 1px 2px rgba(0, 0, 0, 0.3));\n",
              "      fill: #FFFFFF;\n",
              "    }\n",
              "  </style>\n",
              "\n",
              "      <script>\n",
              "        const buttonEl =\n",
              "          document.querySelector('#df-f2ad2adf-0181-4b64-95ad-43119aebba0a button.colab-df-convert');\n",
              "        buttonEl.style.display =\n",
              "          google.colab.kernel.accessAllowed ? 'block' : 'none';\n",
              "\n",
              "        async function convertToInteractive(key) {\n",
              "          const element = document.querySelector('#df-f2ad2adf-0181-4b64-95ad-43119aebba0a');\n",
              "          const dataTable =\n",
              "            await google.colab.kernel.invokeFunction('convertToInteractive',\n",
              "                                                     [key], {});\n",
              "          if (!dataTable) return;\n",
              "\n",
              "          const docLinkHtml = 'Like what you see? Visit the ' +\n",
              "            '<a target=\"_blank\" href=https://colab.research.google.com/notebooks/data_table.ipynb>data table notebook</a>'\n",
              "            + ' to learn more about interactive tables.';\n",
              "          element.innerHTML = '';\n",
              "          dataTable['output_type'] = 'display_data';\n",
              "          await google.colab.output.renderOutput(dataTable, element);\n",
              "          const docLink = document.createElement('div');\n",
              "          docLink.innerHTML = docLinkHtml;\n",
              "          element.appendChild(docLink);\n",
              "        }\n",
              "      </script>\n",
              "    </div>\n",
              "  </div>\n",
              "  "
            ],
            "text/plain": [
              "             date  store_nbr        sales  onpromotion  rezago_onpromotion_1  \\\n",
              "8910   2013-03-10          1     7.000000            0                   0.0   \n",
              "8911   2013-03-10          1     0.000000            0                   0.0   \n",
              "8912   2013-03-10          1    12.000000            0                   0.0   \n",
              "8913   2013-03-10          1  6803.000000            0                   0.0   \n",
              "8914   2013-03-10          1     0.000000            0                   0.0   \n",
              "...           ...        ...          ...          ...                   ...   \n",
              "422329 2017-08-13         54   486.995996           10                   8.0   \n",
              "422330 2017-08-13         54   543.000000            0                   0.0   \n",
              "422331 2017-08-13         54  4620.846000           91                  97.0   \n",
              "422332 2017-08-13         54     0.000000            0                   0.0   \n",
              "422333 2017-08-13         54    21.000000            1                   1.0   \n",
              "\n",
              "        rezago_onpromotion_2  rezago_onpromotion_3  rezago_onpromotion_4  \\\n",
              "8910                     0.0                   0.0                   0.0   \n",
              "8911                     0.0                   0.0                   0.0   \n",
              "8912                     0.0                   0.0                   0.0   \n",
              "8913                     0.0                   0.0                   0.0   \n",
              "8914                     0.0                   0.0                   0.0   \n",
              "...                      ...                   ...                   ...   \n",
              "422329                   9.0                   9.0                  11.0   \n",
              "422330                   1.0                   0.0                   0.0   \n",
              "422331                 118.0                 163.0                 175.0   \n",
              "422332                   0.0                   0.0                   0.0   \n",
              "422333                   4.0                   6.0                   4.0   \n",
              "\n",
              "        cluster  dcoilwtico  ...  state_manabi  state_pastaza  \\\n",
              "8910         13      91.004  ...             0              0   \n",
              "8911         13      91.004  ...             0              0   \n",
              "8912         13      91.004  ...             0              0   \n",
              "8913         13      91.004  ...             0              0   \n",
              "8914         13      91.004  ...             0              0   \n",
              "...         ...         ...  ...           ...            ...   \n",
              "422329        3      49.076  ...             1              0   \n",
              "422330        3      49.076  ...             1              0   \n",
              "422331        3      49.076  ...             1              0   \n",
              "422332        3      49.076  ...             1              0   \n",
              "422333        3      49.076  ...             1              0   \n",
              "\n",
              "        state_pichincha  state_santa_elena  \\\n",
              "8910                  1                  0   \n",
              "8911                  1                  0   \n",
              "8912                  1                  0   \n",
              "8913                  1                  0   \n",
              "8914                  1                  0   \n",
              "...                 ...                ...   \n",
              "422329                0                  0   \n",
              "422330                0                  0   \n",
              "422331                0                  0   \n",
              "422332                0                  0   \n",
              "422333                0                  0   \n",
              "\n",
              "        state_santo_domingo_de_los_tsachilas  state_tungurahua  type_b  \\\n",
              "8910                                       0                 0       0   \n",
              "8911                                       0                 0       0   \n",
              "8912                                       0                 0       0   \n",
              "8913                                       0                 0       0   \n",
              "8914                                       0                 0       0   \n",
              "...                                      ...               ...     ...   \n",
              "422329                                     0                 0       0   \n",
              "422330                                     0                 0       0   \n",
              "422331                                     0                 0       0   \n",
              "422332                                     0                 0       0   \n",
              "422333                                     0                 0       0   \n",
              "\n",
              "        type_c  type_d  type_e  \n",
              "8910         0       1       0  \n",
              "8911         0       1       0  \n",
              "8912         0       1       0  \n",
              "8913         0       1       0  \n",
              "8914         0       1       0  \n",
              "...        ...     ...     ...  \n",
              "422329       1       0       0  \n",
              "422330       1       0       0  \n",
              "422331       1       0       0  \n",
              "422332       1       0       0  \n",
              "422333       1       0       0  \n",
              "\n",
              "[413424 rows x 126 columns]"
            ]
          },
          "execution_count": 3,
          "metadata": {},
          "output_type": "execute_result"
        }
      ],
      "source": [
        "df_maestro_dummies = pd.read_parquet(r'/content/deep-learning-project-JS/data/04_model_input/dummies_master.parquet.snappy', engine='pyarrow')  \n",
        "df_maestro_agregado = pd.read_parquet(r'/content/deep-learning-project-JS/data/03_primary/aggregated_master.parquet.snappy', engine='pyarrow')  \n",
        "#df_maestro_dummies = df_maestro_dummies.set_index('date')\n",
        "df_maestro_dummies"
      ]
    },
    {
      "cell_type": "markdown",
      "metadata": {
        "id": "bgbMFh-QT7gU"
      },
      "source": [
        "#### Separando los conjuntos de entramiento y test"
      ]
    },
    {
      "cell_type": "code",
      "execution_count": 6,
      "metadata": {
        "id": "kOvyRpzxVEeK"
      },
      "outputs": [],
      "source": [
        "df_model = df_maestro_dummies.set_index('date')\n",
        "df_model = df_model.loc[:, ['diff_sales'] + list(df_model.columns.drop('diff_sales'))]\n",
        "#split train and test set\n",
        "train_set, test_set = df_model[:'2016'].reset_index().drop(['sales', 'date'],axis=1).values, df_model['2017':].reset_index().drop(['sales', 'date'],axis=1).values"
      ]
    },
    {
      "cell_type": "markdown",
      "metadata": {
        "id": "8AGU6kNVUFQQ"
      },
      "source": [
        "#### Escalando las características entre 0 y 1"
      ]
    },
    {
      "cell_type": "code",
      "execution_count": 7,
      "metadata": {
        "id": "3dlFklnaSgRa"
      },
      "outputs": [],
      "source": [
        "#apply Min Max Scaler\n",
        "scaler = MinMaxScaler(feature_range=(0, 1))\n",
        "scaler = scaler.fit(train_set)\n",
        "# reshape training set\n",
        "train_set = train_set.reshape(train_set.shape[0], train_set.shape[1])\n",
        "train_set_scaled = scaler.transform(train_set)\n",
        "# reshape test set\n",
        "test_set = test_set.reshape(test_set.shape[0], test_set.shape[1])\n",
        "test_set_scaled = scaler.transform(test_set)\n",
        "# reshape validation set\n",
        "test_set = test_set.reshape(test_set.shape[0], test_set.shape[1])\n",
        "test_set_scaled = scaler.transform(test_set)"
      ]
    },
    {
      "cell_type": "markdown",
      "metadata": {
        "id": "GNrJwZcNUjY4"
      },
      "source": [
        "#### Construyendo el modelo LSTM"
      ]
    },
    {
      "cell_type": "code",
      "execution_count": 8,
      "metadata": {
        "id": "MJdo8R5RUbVS"
      },
      "outputs": [],
      "source": [
        "X_train, y_train = train_set_scaled[:, 1:], train_set_scaled[:, 0:1]\n",
        "X_train = X_train.reshape(X_train.shape[0], 1, X_train.shape[1])\n",
        "X_test, y_test = test_set_scaled[:, 1:], test_set_scaled[:, 0:1]\n",
        "X_test = X_test.reshape(X_test.shape[0], 1, X_test.shape[1])"
      ]
    },
    {
      "cell_type": "code",
      "execution_count": 9,
      "metadata": {
        "colab": {
          "base_uri": "https://localhost:8080/"
        },
        "id": "1hJuSkwT_tMb",
        "outputId": "01fcf6d3-5b1c-475e-8c83-fb6d49faab0a"
      },
      "outputs": [
        {
          "name": "stdout",
          "output_type": "stream",
          "text": [
            "Epoch 1/5\n",
            "354618/354618 [==============================] - 866s 2ms/step - loss: 5.5166e-05\n",
            "Epoch 2/5\n",
            "354618/354618 [==============================] - 840s 2ms/step - loss: 5.3652e-05\n",
            "Epoch 3/5\n",
            "354618/354618 [==============================] - 833s 2ms/step - loss: 5.1141e-05\n",
            "Epoch 4/5\n",
            "354618/354618 [==============================] - 840s 2ms/step - loss: 3.1907e-05\n",
            "Epoch 5/5\n",
            "354618/354618 [==============================] - 835s 2ms/step - loss: 2.3874e-05\n"
          ]
        },
        {
          "data": {
            "text/plain": [
              "<keras.callbacks.History at 0x7f7dee14cb20>"
            ]
          },
          "execution_count": 9,
          "metadata": {},
          "output_type": "execute_result"
        }
      ],
      "source": [
        "#No se requiere entrenar ya que el modelo está guardado en el datalake\n",
        "\"\"\"model = Sequential()\n",
        "model.add(LSTM(4, batch_input_shape=(1, X_train.shape[1], X_train.shape[2]), stateful=True))\n",
        "model.add(Dense(1))\n",
        "model.compile(loss='mean_squared_error', optimizer='adam')\n",
        "model.fit(X_train, y_train, epochs=5, batch_size=1, verbose=1, shuffle=False)\"\"\""
      ]
    },
    {
      "cell_type": "markdown",
      "metadata": {
        "id": "aOhWu94Qlnwb"
      },
      "source": [
        "Guardar LSTM model"
      ]
    },
    {
      "cell_type": "code",
      "execution_count": 10,
      "metadata": {
        "id": "nMOTp3i1tSep"
      },
      "outputs": [],
      "source": [
        "#model.save(r'/content/deep-learning-project-JS/data/05_model/lstm_model.h5')"
      ]
    },
    {
      "cell_type": "markdown",
      "metadata": {
        "id": "toI4RFu1lri0"
      },
      "source": [
        "Cargar LSTM model"
      ]
    },
    {
      "cell_type": "code",
      "execution_count": 11,
      "metadata": {
        "id": "-rPG5SmZwZSU"
      },
      "outputs": [],
      "source": [
        "model = keras.models.load_model(r'/content/deep-learning-project-JS/data/05_model/lstm_model.h5')"
      ]
    },
    {
      "cell_type": "markdown",
      "metadata": {
        "id": "Ks8UVDdFlw-X"
      },
      "source": [
        "Predicción"
      ]
    },
    {
      "cell_type": "code",
      "execution_count": 12,
      "metadata": {
        "colab": {
          "base_uri": "https://localhost:8080/"
        },
        "id": "dGm9trGm_-3h",
        "outputId": "52f2dd39-c803-4281-d1e0-fdeb3425efe9"
      },
      "outputs": [
        {
          "name": "stdout",
          "output_type": "stream",
          "text": [
            "58806/58806 [==============================] - 98s 2ms/step\n"
          ]
        }
      ],
      "source": [
        "y_pred_lstm = model.predict(X_test,batch_size=1)"
      ]
    },
    {
      "cell_type": "markdown",
      "metadata": {
        "id": "6wwBkgm2jbrq"
      },
      "source": [
        "Devolviendo la predicción a la escala original"
      ]
    },
    {
      "cell_type": "code",
      "execution_count": 14,
      "metadata": {
        "id": "Cdqrakg5jdn1"
      },
      "outputs": [],
      "source": [
        "#rebuild test set for inverse transform\n",
        "pred_lstm_test_set = np.hstack([y_pred_lstm, X_test.reshape(X_test.shape[0], X_test.shape[2])])\n",
        "#inverse transform\n",
        "pred_lstm_test_set_inverted = scaler.inverse_transform(pred_lstm_test_set)"
      ]
    },
    {
      "cell_type": "markdown",
      "metadata": {
        "id": "yXViWYdVmSYX"
      },
      "source": [
        "#### XGBoost Model"
      ]
    },
    {
      "cell_type": "code",
      "execution_count": 15,
      "metadata": {
        "id": "LfFDjdSFoH6C"
      },
      "outputs": [],
      "source": [
        "X_train, y_train = train_set_scaled[:, 1:], train_set_scaled[:, 0:1]\n",
        "X_test, y_test = test_set_scaled[:, 1:], test_set_scaled[:, 0:1]"
      ]
    },
    {
      "cell_type": "code",
      "execution_count": 16,
      "metadata": {
        "colab": {
          "base_uri": "https://localhost:8080/"
        },
        "id": "081S9RRvoE3L",
        "outputId": "0e1a012c-89be-4998-8e70-4ccc980adc3e"
      },
      "outputs": [
        {
          "data": {
            "text/plain": [
              "XGBRegressor(n_estimators=1000, objective='reg:squarederror')"
            ]
          },
          "execution_count": 16,
          "metadata": {},
          "output_type": "execute_result"
        }
      ],
      "source": [
        "#No se requiere entrenar ya que el modelo está guardado en el datalake\n",
        "\"\"\"reg = xgb.XGBRegressor(n_estimators=1000, objective='reg:squarederror')\n",
        "reg.fit(X_train, y_train,\n",
        "        eval_set=[(X_train, y_train), (X_test, y_test)],\n",
        "        early_stopping_rounds=50,\n",
        "       verbose=False) # Change verbose to True if you want to see it train\"\"\""
      ]
    },
    {
      "cell_type": "markdown",
      "metadata": {
        "id": "fQFMo-RiljTn"
      },
      "source": [
        "Guardar XGBoost model"
      ]
    },
    {
      "cell_type": "code",
      "execution_count": 18,
      "metadata": {
        "id": "XWES1Q8elSrb"
      },
      "outputs": [],
      "source": [
        "#reg.save_model(\"/content/deep-learning-project-JS/data/05_model/xgboost_model.json\")"
      ]
    },
    {
      "cell_type": "markdown",
      "metadata": {
        "id": "bj7Jhx1PllCI"
      },
      "source": [
        "Cargar XGBoost Model"
      ]
    },
    {
      "cell_type": "code",
      "execution_count": 19,
      "metadata": {
        "id": "74sp7yYUlZmp"
      },
      "outputs": [],
      "source": [
        "reg = xgb.XGBRegressor()\n",
        "reg.load_model(\"/content/deep-learning-project-JS/data/05_model/xgboost_model.json\")"
      ]
    },
    {
      "cell_type": "markdown",
      "metadata": {
        "id": "4XXe-baqlt2J"
      },
      "source": [
        "Predicción"
      ]
    },
    {
      "cell_type": "code",
      "execution_count": 20,
      "metadata": {
        "id": "kjBkW1SzqiKn"
      },
      "outputs": [],
      "source": [
        "y_pred_xgboost = reg.predict(X_test)"
      ]
    },
    {
      "cell_type": "markdown",
      "metadata": {
        "id": "5q5ihyzjiYTK"
      },
      "source": [
        "Devolviendo la predicción a la escala original"
      ]
    },
    {
      "cell_type": "code",
      "execution_count": 24,
      "metadata": {
        "id": "01N8xsNha2ux"
      },
      "outputs": [],
      "source": [
        "#rebuild test set for inverse transform\n",
        "pred_xgboost_test_set = np.hstack([y_pred_xgboost.reshape(y_pred_xgboost.shape[0], 1), X_test.reshape(X_test.shape[0], X_test.shape[1])])\n",
        "#inverse transform\n",
        "pred_xgboost_test_set_inverted = scaler.inverse_transform(pred_xgboost_test_set)"
      ]
    },
    {
      "cell_type": "markdown",
      "metadata": {
        "id": "yVzymlr7icS9"
      },
      "source": [
        "Agregando la predicción a la maestra"
      ]
    },
    {
      "cell_type": "code",
      "execution_count": 25,
      "metadata": {
        "colab": {
          "base_uri": "https://localhost:8080/",
          "height": 424
        },
        "id": "5zZvOB9fljec",
        "outputId": "4e0ef18d-1225-46cf-d994-b04c8cfc93cc"
      },
      "outputs": [
        {
          "data": {
            "text/html": [
              "\n",
              "  <div id=\"df-4fb52ec3-a1fe-4b08-9b62-05aa4fbb0e88\">\n",
              "    <div class=\"colab-df-container\">\n",
              "      <div>\n",
              "<style scoped>\n",
              "    .dataframe tbody tr th:only-of-type {\n",
              "        vertical-align: middle;\n",
              "    }\n",
              "\n",
              "    .dataframe tbody tr th {\n",
              "        vertical-align: top;\n",
              "    }\n",
              "\n",
              "    .dataframe thead th {\n",
              "        text-align: right;\n",
              "    }\n",
              "</style>\n",
              "<table border=\"1\" class=\"dataframe\">\n",
              "  <thead>\n",
              "    <tr style=\"text-align: right;\">\n",
              "      <th></th>\n",
              "      <th>date</th>\n",
              "      <th>store_nbr</th>\n",
              "      <th>family</th>\n",
              "      <th>sales</th>\n",
              "      <th>diff_sales</th>\n",
              "      <th>diff_sales_pred_lstm</th>\n",
              "      <th>diff_sales_pred_xgboost</th>\n",
              "    </tr>\n",
              "  </thead>\n",
              "  <tbody>\n",
              "    <tr>\n",
              "      <th>0</th>\n",
              "      <td>2017-01-01</td>\n",
              "      <td>1</td>\n",
              "      <td>automotive</td>\n",
              "      <td>26.0</td>\n",
              "      <td>-2.0</td>\n",
              "      <td>2.715498</td>\n",
              "      <td>7.731067</td>\n",
              "    </tr>\n",
              "    <tr>\n",
              "      <th>1782</th>\n",
              "      <td>2017-01-08</td>\n",
              "      <td>1</td>\n",
              "      <td>automotive</td>\n",
              "      <td>19.0</td>\n",
              "      <td>-7.0</td>\n",
              "      <td>-157.866173</td>\n",
              "      <td>7.731067</td>\n",
              "    </tr>\n",
              "    <tr>\n",
              "      <th>3564</th>\n",
              "      <td>2017-01-15</td>\n",
              "      <td>1</td>\n",
              "      <td>automotive</td>\n",
              "      <td>23.0</td>\n",
              "      <td>4.0</td>\n",
              "      <td>15.796952</td>\n",
              "      <td>7.731067</td>\n",
              "    </tr>\n",
              "    <tr>\n",
              "      <th>5346</th>\n",
              "      <td>2017-01-22</td>\n",
              "      <td>1</td>\n",
              "      <td>automotive</td>\n",
              "      <td>20.0</td>\n",
              "      <td>-3.0</td>\n",
              "      <td>15.394796</td>\n",
              "      <td>7.731067</td>\n",
              "    </tr>\n",
              "    <tr>\n",
              "      <th>7128</th>\n",
              "      <td>2017-01-29</td>\n",
              "      <td>1</td>\n",
              "      <td>automotive</td>\n",
              "      <td>37.0</td>\n",
              "      <td>17.0</td>\n",
              "      <td>20.789757</td>\n",
              "      <td>7.731067</td>\n",
              "    </tr>\n",
              "    <tr>\n",
              "      <th>...</th>\n",
              "      <td>...</td>\n",
              "      <td>...</td>\n",
              "      <td>...</td>\n",
              "      <td>...</td>\n",
              "      <td>...</td>\n",
              "      <td>...</td>\n",
              "      <td>...</td>\n",
              "    </tr>\n",
              "    <tr>\n",
              "      <th>51677</th>\n",
              "      <td>2017-07-16</td>\n",
              "      <td>54</td>\n",
              "      <td>seafood</td>\n",
              "      <td>21.0</td>\n",
              "      <td>-1.0</td>\n",
              "      <td>3.679155</td>\n",
              "      <td>7.731067</td>\n",
              "    </tr>\n",
              "    <tr>\n",
              "      <th>53459</th>\n",
              "      <td>2017-07-23</td>\n",
              "      <td>54</td>\n",
              "      <td>seafood</td>\n",
              "      <td>20.0</td>\n",
              "      <td>-1.0</td>\n",
              "      <td>20.243432</td>\n",
              "      <td>7.731067</td>\n",
              "    </tr>\n",
              "    <tr>\n",
              "      <th>55241</th>\n",
              "      <td>2017-07-30</td>\n",
              "      <td>54</td>\n",
              "      <td>seafood</td>\n",
              "      <td>25.0</td>\n",
              "      <td>5.0</td>\n",
              "      <td>34.614820</td>\n",
              "      <td>7.731067</td>\n",
              "    </tr>\n",
              "    <tr>\n",
              "      <th>57023</th>\n",
              "      <td>2017-08-06</td>\n",
              "      <td>54</td>\n",
              "      <td>seafood</td>\n",
              "      <td>18.0</td>\n",
              "      <td>-7.0</td>\n",
              "      <td>12.412771</td>\n",
              "      <td>7.731067</td>\n",
              "    </tr>\n",
              "    <tr>\n",
              "      <th>58805</th>\n",
              "      <td>2017-08-13</td>\n",
              "      <td>54</td>\n",
              "      <td>seafood</td>\n",
              "      <td>21.0</td>\n",
              "      <td>3.0</td>\n",
              "      <td>14.347672</td>\n",
              "      <td>7.731067</td>\n",
              "    </tr>\n",
              "  </tbody>\n",
              "</table>\n",
              "<p>58806 rows × 7 columns</p>\n",
              "</div>\n",
              "      <button class=\"colab-df-convert\" onclick=\"convertToInteractive('df-4fb52ec3-a1fe-4b08-9b62-05aa4fbb0e88')\"\n",
              "              title=\"Convert this dataframe to an interactive table.\"\n",
              "              style=\"display:none;\">\n",
              "        \n",
              "  <svg xmlns=\"http://www.w3.org/2000/svg\" height=\"24px\"viewBox=\"0 0 24 24\"\n",
              "       width=\"24px\">\n",
              "    <path d=\"M0 0h24v24H0V0z\" fill=\"none\"/>\n",
              "    <path d=\"M18.56 5.44l.94 2.06.94-2.06 2.06-.94-2.06-.94-.94-2.06-.94 2.06-2.06.94zm-11 1L8.5 8.5l.94-2.06 2.06-.94-2.06-.94L8.5 2.5l-.94 2.06-2.06.94zm10 10l.94 2.06.94-2.06 2.06-.94-2.06-.94-.94-2.06-.94 2.06-2.06.94z\"/><path d=\"M17.41 7.96l-1.37-1.37c-.4-.4-.92-.59-1.43-.59-.52 0-1.04.2-1.43.59L10.3 9.45l-7.72 7.72c-.78.78-.78 2.05 0 2.83L4 21.41c.39.39.9.59 1.41.59.51 0 1.02-.2 1.41-.59l7.78-7.78 2.81-2.81c.8-.78.8-2.07 0-2.86zM5.41 20L4 18.59l7.72-7.72 1.47 1.35L5.41 20z\"/>\n",
              "  </svg>\n",
              "      </button>\n",
              "      \n",
              "  <style>\n",
              "    .colab-df-container {\n",
              "      display:flex;\n",
              "      flex-wrap:wrap;\n",
              "      gap: 12px;\n",
              "    }\n",
              "\n",
              "    .colab-df-convert {\n",
              "      background-color: #E8F0FE;\n",
              "      border: none;\n",
              "      border-radius: 50%;\n",
              "      cursor: pointer;\n",
              "      display: none;\n",
              "      fill: #1967D2;\n",
              "      height: 32px;\n",
              "      padding: 0 0 0 0;\n",
              "      width: 32px;\n",
              "    }\n",
              "\n",
              "    .colab-df-convert:hover {\n",
              "      background-color: #E2EBFA;\n",
              "      box-shadow: 0px 1px 2px rgba(60, 64, 67, 0.3), 0px 1px 3px 1px rgba(60, 64, 67, 0.15);\n",
              "      fill: #174EA6;\n",
              "    }\n",
              "\n",
              "    [theme=dark] .colab-df-convert {\n",
              "      background-color: #3B4455;\n",
              "      fill: #D2E3FC;\n",
              "    }\n",
              "\n",
              "    [theme=dark] .colab-df-convert:hover {\n",
              "      background-color: #434B5C;\n",
              "      box-shadow: 0px 1px 3px 1px rgba(0, 0, 0, 0.15);\n",
              "      filter: drop-shadow(0px 1px 2px rgba(0, 0, 0, 0.3));\n",
              "      fill: #FFFFFF;\n",
              "    }\n",
              "  </style>\n",
              "\n",
              "      <script>\n",
              "        const buttonEl =\n",
              "          document.querySelector('#df-4fb52ec3-a1fe-4b08-9b62-05aa4fbb0e88 button.colab-df-convert');\n",
              "        buttonEl.style.display =\n",
              "          google.colab.kernel.accessAllowed ? 'block' : 'none';\n",
              "\n",
              "        async function convertToInteractive(key) {\n",
              "          const element = document.querySelector('#df-4fb52ec3-a1fe-4b08-9b62-05aa4fbb0e88');\n",
              "          const dataTable =\n",
              "            await google.colab.kernel.invokeFunction('convertToInteractive',\n",
              "                                                     [key], {});\n",
              "          if (!dataTable) return;\n",
              "\n",
              "          const docLinkHtml = 'Like what you see? Visit the ' +\n",
              "            '<a target=\"_blank\" href=https://colab.research.google.com/notebooks/data_table.ipynb>data table notebook</a>'\n",
              "            + ' to learn more about interactive tables.';\n",
              "          element.innerHTML = '';\n",
              "          dataTable['output_type'] = 'display_data';\n",
              "          await google.colab.output.renderOutput(dataTable, element);\n",
              "          const docLink = document.createElement('div');\n",
              "          docLink.innerHTML = docLinkHtml;\n",
              "          element.appendChild(docLink);\n",
              "        }\n",
              "      </script>\n",
              "    </div>\n",
              "  </div>\n",
              "  "
            ],
            "text/plain": [
              "            date  store_nbr      family  sales  diff_sales  \\\n",
              "0     2017-01-01          1  automotive   26.0        -2.0   \n",
              "1782  2017-01-08          1  automotive   19.0        -7.0   \n",
              "3564  2017-01-15          1  automotive   23.0         4.0   \n",
              "5346  2017-01-22          1  automotive   20.0        -3.0   \n",
              "7128  2017-01-29          1  automotive   37.0        17.0   \n",
              "...          ...        ...         ...    ...         ...   \n",
              "51677 2017-07-16         54     seafood   21.0        -1.0   \n",
              "53459 2017-07-23         54     seafood   20.0        -1.0   \n",
              "55241 2017-07-30         54     seafood   25.0         5.0   \n",
              "57023 2017-08-06         54     seafood   18.0        -7.0   \n",
              "58805 2017-08-13         54     seafood   21.0         3.0   \n",
              "\n",
              "       diff_sales_pred_lstm  diff_sales_pred_xgboost  \n",
              "0                  2.715498                 7.731067  \n",
              "1782            -157.866173                 7.731067  \n",
              "3564              15.796952                 7.731067  \n",
              "5346              15.394796                 7.731067  \n",
              "7128              20.789757                 7.731067  \n",
              "...                     ...                      ...  \n",
              "51677              3.679155                 7.731067  \n",
              "53459             20.243432                 7.731067  \n",
              "55241             34.614820                 7.731067  \n",
              "57023             12.412771                 7.731067  \n",
              "58805             14.347672                 7.731067  \n",
              "\n",
              "[58806 rows x 7 columns]"
            ]
          },
          "execution_count": 25,
          "metadata": {},
          "output_type": "execute_result"
        }
      ],
      "source": [
        "df_master_pred = df_maestro_agregado[['date', 'store_nbr', 'family', 'sales', 'diff_sales']].set_index('date')['2017':].reset_index()\n",
        "df_master_pred['diff_sales_pred_lstm'] = pred_lstm_test_set_inverted[:,0:1]\n",
        "df_master_pred['diff_sales_pred_xgboost'] = pred_xgboost_test_set_inverted[:,0:1]\n",
        "df_master_pred = df_master_pred.sort_values(by=['family', 'store_nbr', 'date'])\n",
        "\n",
        "df_master_pred"
      ]
    },
    {
      "cell_type": "markdown",
      "metadata": {
        "id": "cdkhxc18if2u"
      },
      "source": [
        "#### Deshaciendo la diferenciación"
      ]
    },
    {
      "cell_type": "code",
      "execution_count": 26,
      "metadata": {
        "colab": {
          "base_uri": "https://localhost:8080/",
          "height": 424
        },
        "id": "mytZpcHXH184",
        "outputId": "cc5dd6de-2c40-43b5-9edc-5567be2e0b24"
      },
      "outputs": [
        {
          "data": {
            "text/html": [
              "\n",
              "  <div id=\"df-1f012509-99ec-4b1f-9b40-8145d1757f64\">\n",
              "    <div class=\"colab-df-container\">\n",
              "      <div>\n",
              "<style scoped>\n",
              "    .dataframe tbody tr th:only-of-type {\n",
              "        vertical-align: middle;\n",
              "    }\n",
              "\n",
              "    .dataframe tbody tr th {\n",
              "        vertical-align: top;\n",
              "    }\n",
              "\n",
              "    .dataframe thead th {\n",
              "        text-align: right;\n",
              "    }\n",
              "</style>\n",
              "<table border=\"1\" class=\"dataframe\">\n",
              "  <thead>\n",
              "    <tr style=\"text-align: right;\">\n",
              "      <th></th>\n",
              "      <th>date</th>\n",
              "      <th>store_nbr</th>\n",
              "      <th>family</th>\n",
              "      <th>sales</th>\n",
              "      <th>diff_sales</th>\n",
              "      <th>diff_sales_pred_lstm</th>\n",
              "      <th>diff_sales_pred_xgboost</th>\n",
              "      <th>sales_pred_lstm</th>\n",
              "      <th>sales_pred_xgboost</th>\n",
              "    </tr>\n",
              "  </thead>\n",
              "  <tbody>\n",
              "    <tr>\n",
              "      <th>1782</th>\n",
              "      <td>2017-01-08</td>\n",
              "      <td>1</td>\n",
              "      <td>automotive</td>\n",
              "      <td>19.0</td>\n",
              "      <td>-7.0</td>\n",
              "      <td>-157.866173</td>\n",
              "      <td>7.731067</td>\n",
              "      <td>-131.866173</td>\n",
              "      <td>33.731067</td>\n",
              "    </tr>\n",
              "    <tr>\n",
              "      <th>3564</th>\n",
              "      <td>2017-01-15</td>\n",
              "      <td>1</td>\n",
              "      <td>automotive</td>\n",
              "      <td>23.0</td>\n",
              "      <td>4.0</td>\n",
              "      <td>15.796952</td>\n",
              "      <td>7.731067</td>\n",
              "      <td>34.796952</td>\n",
              "      <td>26.731067</td>\n",
              "    </tr>\n",
              "    <tr>\n",
              "      <th>5346</th>\n",
              "      <td>2017-01-22</td>\n",
              "      <td>1</td>\n",
              "      <td>automotive</td>\n",
              "      <td>20.0</td>\n",
              "      <td>-3.0</td>\n",
              "      <td>15.394796</td>\n",
              "      <td>7.731067</td>\n",
              "      <td>38.394796</td>\n",
              "      <td>30.731067</td>\n",
              "    </tr>\n",
              "    <tr>\n",
              "      <th>7128</th>\n",
              "      <td>2017-01-29</td>\n",
              "      <td>1</td>\n",
              "      <td>automotive</td>\n",
              "      <td>37.0</td>\n",
              "      <td>17.0</td>\n",
              "      <td>20.789757</td>\n",
              "      <td>7.731067</td>\n",
              "      <td>40.789757</td>\n",
              "      <td>27.731067</td>\n",
              "    </tr>\n",
              "    <tr>\n",
              "      <th>8910</th>\n",
              "      <td>2017-02-05</td>\n",
              "      <td>1</td>\n",
              "      <td>automotive</td>\n",
              "      <td>26.0</td>\n",
              "      <td>-11.0</td>\n",
              "      <td>18.907970</td>\n",
              "      <td>7.731067</td>\n",
              "      <td>55.907970</td>\n",
              "      <td>44.731067</td>\n",
              "    </tr>\n",
              "    <tr>\n",
              "      <th>...</th>\n",
              "      <td>...</td>\n",
              "      <td>...</td>\n",
              "      <td>...</td>\n",
              "      <td>...</td>\n",
              "      <td>...</td>\n",
              "      <td>...</td>\n",
              "      <td>...</td>\n",
              "      <td>...</td>\n",
              "      <td>...</td>\n",
              "    </tr>\n",
              "    <tr>\n",
              "      <th>51677</th>\n",
              "      <td>2017-07-16</td>\n",
              "      <td>54</td>\n",
              "      <td>seafood</td>\n",
              "      <td>21.0</td>\n",
              "      <td>-1.0</td>\n",
              "      <td>3.679155</td>\n",
              "      <td>7.731067</td>\n",
              "      <td>25.679155</td>\n",
              "      <td>29.731067</td>\n",
              "    </tr>\n",
              "    <tr>\n",
              "      <th>53459</th>\n",
              "      <td>2017-07-23</td>\n",
              "      <td>54</td>\n",
              "      <td>seafood</td>\n",
              "      <td>20.0</td>\n",
              "      <td>-1.0</td>\n",
              "      <td>20.243432</td>\n",
              "      <td>7.731067</td>\n",
              "      <td>41.243432</td>\n",
              "      <td>28.731067</td>\n",
              "    </tr>\n",
              "    <tr>\n",
              "      <th>55241</th>\n",
              "      <td>2017-07-30</td>\n",
              "      <td>54</td>\n",
              "      <td>seafood</td>\n",
              "      <td>25.0</td>\n",
              "      <td>5.0</td>\n",
              "      <td>34.614820</td>\n",
              "      <td>7.731067</td>\n",
              "      <td>54.614820</td>\n",
              "      <td>27.731067</td>\n",
              "    </tr>\n",
              "    <tr>\n",
              "      <th>57023</th>\n",
              "      <td>2017-08-06</td>\n",
              "      <td>54</td>\n",
              "      <td>seafood</td>\n",
              "      <td>18.0</td>\n",
              "      <td>-7.0</td>\n",
              "      <td>12.412771</td>\n",
              "      <td>7.731067</td>\n",
              "      <td>37.412771</td>\n",
              "      <td>32.731067</td>\n",
              "    </tr>\n",
              "    <tr>\n",
              "      <th>58805</th>\n",
              "      <td>2017-08-13</td>\n",
              "      <td>54</td>\n",
              "      <td>seafood</td>\n",
              "      <td>21.0</td>\n",
              "      <td>3.0</td>\n",
              "      <td>14.347672</td>\n",
              "      <td>7.731067</td>\n",
              "      <td>32.347672</td>\n",
              "      <td>25.731067</td>\n",
              "    </tr>\n",
              "  </tbody>\n",
              "</table>\n",
              "<p>57024 rows × 9 columns</p>\n",
              "</div>\n",
              "      <button class=\"colab-df-convert\" onclick=\"convertToInteractive('df-1f012509-99ec-4b1f-9b40-8145d1757f64')\"\n",
              "              title=\"Convert this dataframe to an interactive table.\"\n",
              "              style=\"display:none;\">\n",
              "        \n",
              "  <svg xmlns=\"http://www.w3.org/2000/svg\" height=\"24px\"viewBox=\"0 0 24 24\"\n",
              "       width=\"24px\">\n",
              "    <path d=\"M0 0h24v24H0V0z\" fill=\"none\"/>\n",
              "    <path d=\"M18.56 5.44l.94 2.06.94-2.06 2.06-.94-2.06-.94-.94-2.06-.94 2.06-2.06.94zm-11 1L8.5 8.5l.94-2.06 2.06-.94-2.06-.94L8.5 2.5l-.94 2.06-2.06.94zm10 10l.94 2.06.94-2.06 2.06-.94-2.06-.94-.94-2.06-.94 2.06-2.06.94z\"/><path d=\"M17.41 7.96l-1.37-1.37c-.4-.4-.92-.59-1.43-.59-.52 0-1.04.2-1.43.59L10.3 9.45l-7.72 7.72c-.78.78-.78 2.05 0 2.83L4 21.41c.39.39.9.59 1.41.59.51 0 1.02-.2 1.41-.59l7.78-7.78 2.81-2.81c.8-.78.8-2.07 0-2.86zM5.41 20L4 18.59l7.72-7.72 1.47 1.35L5.41 20z\"/>\n",
              "  </svg>\n",
              "      </button>\n",
              "      \n",
              "  <style>\n",
              "    .colab-df-container {\n",
              "      display:flex;\n",
              "      flex-wrap:wrap;\n",
              "      gap: 12px;\n",
              "    }\n",
              "\n",
              "    .colab-df-convert {\n",
              "      background-color: #E8F0FE;\n",
              "      border: none;\n",
              "      border-radius: 50%;\n",
              "      cursor: pointer;\n",
              "      display: none;\n",
              "      fill: #1967D2;\n",
              "      height: 32px;\n",
              "      padding: 0 0 0 0;\n",
              "      width: 32px;\n",
              "    }\n",
              "\n",
              "    .colab-df-convert:hover {\n",
              "      background-color: #E2EBFA;\n",
              "      box-shadow: 0px 1px 2px rgba(60, 64, 67, 0.3), 0px 1px 3px 1px rgba(60, 64, 67, 0.15);\n",
              "      fill: #174EA6;\n",
              "    }\n",
              "\n",
              "    [theme=dark] .colab-df-convert {\n",
              "      background-color: #3B4455;\n",
              "      fill: #D2E3FC;\n",
              "    }\n",
              "\n",
              "    [theme=dark] .colab-df-convert:hover {\n",
              "      background-color: #434B5C;\n",
              "      box-shadow: 0px 1px 3px 1px rgba(0, 0, 0, 0.15);\n",
              "      filter: drop-shadow(0px 1px 2px rgba(0, 0, 0, 0.3));\n",
              "      fill: #FFFFFF;\n",
              "    }\n",
              "  </style>\n",
              "\n",
              "      <script>\n",
              "        const buttonEl =\n",
              "          document.querySelector('#df-1f012509-99ec-4b1f-9b40-8145d1757f64 button.colab-df-convert');\n",
              "        buttonEl.style.display =\n",
              "          google.colab.kernel.accessAllowed ? 'block' : 'none';\n",
              "\n",
              "        async function convertToInteractive(key) {\n",
              "          const element = document.querySelector('#df-1f012509-99ec-4b1f-9b40-8145d1757f64');\n",
              "          const dataTable =\n",
              "            await google.colab.kernel.invokeFunction('convertToInteractive',\n",
              "                                                     [key], {});\n",
              "          if (!dataTable) return;\n",
              "\n",
              "          const docLinkHtml = 'Like what you see? Visit the ' +\n",
              "            '<a target=\"_blank\" href=https://colab.research.google.com/notebooks/data_table.ipynb>data table notebook</a>'\n",
              "            + ' to learn more about interactive tables.';\n",
              "          element.innerHTML = '';\n",
              "          dataTable['output_type'] = 'display_data';\n",
              "          await google.colab.output.renderOutput(dataTable, element);\n",
              "          const docLink = document.createElement('div');\n",
              "          docLink.innerHTML = docLinkHtml;\n",
              "          element.appendChild(docLink);\n",
              "        }\n",
              "      </script>\n",
              "    </div>\n",
              "  </div>\n",
              "  "
            ],
            "text/plain": [
              "            date  store_nbr      family  sales  diff_sales  \\\n",
              "1782  2017-01-08          1  automotive   19.0        -7.0   \n",
              "3564  2017-01-15          1  automotive   23.0         4.0   \n",
              "5346  2017-01-22          1  automotive   20.0        -3.0   \n",
              "7128  2017-01-29          1  automotive   37.0        17.0   \n",
              "8910  2017-02-05          1  automotive   26.0       -11.0   \n",
              "...          ...        ...         ...    ...         ...   \n",
              "51677 2017-07-16         54     seafood   21.0        -1.0   \n",
              "53459 2017-07-23         54     seafood   20.0        -1.0   \n",
              "55241 2017-07-30         54     seafood   25.0         5.0   \n",
              "57023 2017-08-06         54     seafood   18.0        -7.0   \n",
              "58805 2017-08-13         54     seafood   21.0         3.0   \n",
              "\n",
              "       diff_sales_pred_lstm  diff_sales_pred_xgboost  sales_pred_lstm  \\\n",
              "1782            -157.866173                 7.731067      -131.866173   \n",
              "3564              15.796952                 7.731067        34.796952   \n",
              "5346              15.394796                 7.731067        38.394796   \n",
              "7128              20.789757                 7.731067        40.789757   \n",
              "8910              18.907970                 7.731067        55.907970   \n",
              "...                     ...                      ...              ...   \n",
              "51677              3.679155                 7.731067        25.679155   \n",
              "53459             20.243432                 7.731067        41.243432   \n",
              "55241             34.614820                 7.731067        54.614820   \n",
              "57023             12.412771                 7.731067        37.412771   \n",
              "58805             14.347672                 7.731067        32.347672   \n",
              "\n",
              "       sales_pred_xgboost  \n",
              "1782            33.731067  \n",
              "3564            26.731067  \n",
              "5346            30.731067  \n",
              "7128            27.731067  \n",
              "8910            44.731067  \n",
              "...                   ...  \n",
              "51677           29.731067  \n",
              "53459           28.731067  \n",
              "55241           27.731067  \n",
              "57023           32.731067  \n",
              "58805           25.731067  \n",
              "\n",
              "[57024 rows x 9 columns]"
            ]
          },
          "execution_count": 26,
          "metadata": {},
          "output_type": "execute_result"
        }
      ],
      "source": [
        "df_master_pred['sales_pred_lstm'] = df_master_pred.groupby(['family', 'store_nbr'])['sales'].shift(1) + df_master_pred['diff_sales_pred_lstm']\n",
        "df_master_pred['sales_pred_xgboost'] = df_master_pred.groupby(['family', 'store_nbr'])['sales'].shift(1) + df_master_pred['diff_sales_pred_xgboost']\n",
        "df_master_pred = df_master_pred.dropna()\n",
        "\n",
        "df_master_pred"
      ]
    },
    {
      "attachments": {},
      "cell_type": "markdown",
      "metadata": {},
      "source": [
        "Evaluando las predicciones"
      ]
    },
    {
      "cell_type": "code",
      "execution_count": null,
      "metadata": {},
      "outputs": [],
      "source": [
        "#LSTM error\n",
        "np.sqrt(mean_squared_error(df_master_pred.sales,df_master_pred.sales_pred_lstm))"
      ]
    },
    {
      "cell_type": "code",
      "execution_count": null,
      "metadata": {},
      "outputs": [],
      "source": [
        "#XGBoost error\n",
        "np.sqrt(mean_squared_error(df_master_pred.sales,df_master_pred.sales_pred_xgboost))"
      ]
    },
    {
      "cell_type": "markdown",
      "metadata": {
        "id": "6WltJG0cmFgK"
      },
      "source": [
        "Guardar maestra de predicciones"
      ]
    },
    {
      "cell_type": "code",
      "execution_count": 35,
      "metadata": {
        "id": "vdKcXuKZmHOv"
      },
      "outputs": [],
      "source": [
        "df_master_pred.to_parquet(r'/content/deep-learning-project-JS/data/06_model_output/forecast_master.parquet.snappy', compression='snappy') "
      ]
    },
    {
      "cell_type": "markdown",
      "metadata": {
        "id": "LLFuRGz_io6b"
      },
      "source": [
        "#### Revisando el resultado para las familias y los puntos de venta desagregados"
      ]
    },
    {
      "cell_type": "code",
      "execution_count": 45,
      "metadata": {
        "colab": {
          "base_uri": "https://localhost:8080/"
        },
        "id": "XtQqifIu5zyC",
        "outputId": "845036fb-0246-442a-a5c0-dbf7287f6b21"
      },
      "outputs": [
        {
          "data": {
            "text/plain": [
              "array(['automotive', 'baby care', 'beauty', 'beverages', 'books',\n",
              "       'bread/bakery', 'celebration', 'cleaning', 'dairy', 'deli', 'eggs',\n",
              "       'frozen foods', 'grocery i', 'grocery ii', 'hardware',\n",
              "       'home and kitchen i', 'home and kitchen ii', 'home appliances',\n",
              "       'home care', 'ladieswear', 'lawn and garden', 'lingerie',\n",
              "       'liquor,wine,beer', 'magazines', 'meats', 'personal care',\n",
              "       'pet supplies', 'players and electronics', 'poultry',\n",
              "       'prepared foods', 'produce', 'school and office supplies',\n",
              "       'seafood'], dtype=object)"
            ]
          },
          "execution_count": 45,
          "metadata": {},
          "output_type": "execute_result"
        }
      ],
      "source": [
        "df_master_pred.family.unique()"
      ]
    },
    {
      "cell_type": "code",
      "execution_count": 46,
      "metadata": {
        "id": "hxrXn-C1Sy3M"
      },
      "outputs": [],
      "source": [
        "family = 'beverages'\n",
        "store_nbr = 40\n",
        "copiar = df_master_pred.loc[(df_master_pred['family'] == family) & (df_master_pred['store_nbr'] == store_nbr)]"
      ]
    },
    {
      "cell_type": "code",
      "execution_count": 47,
      "metadata": {
        "id": "ofHikjNoizUz"
      },
      "outputs": [],
      "source": [
        "df1 = copiar.copy(deep = True)\n",
        "df1['date'] = pd.to_datetime(df1['date'])\n",
        "df1.set_index('date',inplace = True)\n",
        "df1 = df1.resample('W').sum()"
      ]
    },
    {
      "cell_type": "code",
      "execution_count": 48,
      "metadata": {
        "colab": {
          "base_uri": "https://localhost:8080/",
          "height": 350
        },
        "id": "pZHDPdnjiu-D",
        "outputId": "fa490391-b2ad-4488-a007-f3c718e77490"
      },
      "outputs": [
        {
          "data": {
            "image/png": "[encoded data removed]",
            "text/plain": [
              "<Figure size 1440x360 with 1 Axes>"
            ]
          },
          "metadata": {
            "needs_background": "light"
          },
          "output_type": "display_data"
        }
      ],
      "source": [
        "color1 = ['#296C92','#3EB489']\n",
        "plt.figure(figsize = (20,5))\n",
        "sns.lineplot(x = df1.index ,y = df1[\"sales_pred_lstm\"],data = df1,palette = color1);\n",
        "sns.lineplot(x = df1.index ,y = df1[\"sales_pred_xgboost\"],data = df1,palette = color1);\n",
        "sns.lineplot(x = df1.index ,y = df1[\"sales\"],data = df1,palette = color1);\n",
        "plt.legend(labels=[\"Pronostico ventas LSTM\", \"Pronostico ventas XGBoost\", \"Ventas reales\"])\n",
        "plt.title('Demanda vs Fechas, familia: ' + family + ' tienda: ' + str(store_nbr))\n",
        "\n",
        "plt.show()"
      ]
    },
    {
      "cell_type": "markdown",
      "metadata": {
        "id": "9Txi5uJ6i6YC"
      },
      "source": [
        "#### Revisando el resultado agregado"
      ]
    },
    {
      "cell_type": "code",
      "execution_count": 51,
      "metadata": {
        "id": "bI87AjHIOJyM"
      },
      "outputs": [],
      "source": [
        "df1 = df_master_pred.copy(deep = True)\n",
        "df1['date'] = pd.to_datetime(df1['date'])\n",
        "df1.set_index('date',inplace = True)\n",
        "df1 = df1.resample('W').sum()"
      ]
    },
    {
      "cell_type": "code",
      "execution_count": 52,
      "metadata": {
        "id": "aGMQ8d6ogNrE"
      },
      "outputs": [],
      "source": [
        "df2 = df_model.reset_index()[['date', 'sales']].copy(deep = True)\n",
        "df2['date'] = pd.to_datetime(df2['date'])\n",
        "df2.set_index('date',inplace = True)\n",
        "df2 = df2.resample('W').sum()"
      ]
    },
    {
      "cell_type": "code",
      "execution_count": 54,
      "metadata": {
        "colab": {
          "base_uri": "https://localhost:8080/",
          "height": 350
        },
        "id": "3EucYz1WOlAQ",
        "outputId": "973e0440-61dd-42b3-c782-e6a93a0bada6"
      },
      "outputs": [
        {
          "data": {
            "image/png": "[encoded data removed]",
            "text/plain": [
              "<Figure size 1440x360 with 1 Axes>"
            ]
          },
          "metadata": {
            "needs_background": "light"
          },
          "output_type": "display_data"
        }
      ],
      "source": [
        "color1 = ['#296C92','#3EB489']\n",
        "plt.figure(figsize = (20,5))\n",
        "sns.lineplot(x = df1.index ,y = df1[\"sales_pred_lstm\"],data = df1,palette = color1);\n",
        "sns.lineplot(x = df2.index ,y = df2[\"sales\"],data = df2,palette = color1);\n",
        "plt.title('Demanda agregada vs Fechas')\n",
        "plt.legend(labels=[\"Pronostico ventas LSTM\", \"Ventas reales\"])\n",
        "\n",
        "plt.show()"
      ]
    },
    {
      "cell_type": "code",
      "execution_count": 55,
      "metadata": {
        "colab": {
          "base_uri": "https://localhost:8080/",
          "height": 350
        },
        "id": "yQnIbppZ6BFM",
        "outputId": "acf08573-f633-4f60-825f-f08f3482320a"
      },
      "outputs": [
        {
          "data": {
            "image/png": "[encoded data removed]",
            "text/plain": [
              "<Figure size 1440x360 with 1 Axes>"
            ]
          },
          "metadata": {
            "needs_background": "light"
          },
          "output_type": "display_data"
        }
      ],
      "source": [
        "color1 = ['#296C92','#3EB489']\n",
        "plt.figure(figsize = (20,5))\n",
        "sns.lineplot(x = df1.index ,y = df1[\"sales_pred_xgboost\"],data = df1,palette = color1);\n",
        "sns.lineplot(x = df2.index ,y = df2[\"sales\"],data = df2,palette = color1);\n",
        "plt.title('Demanda agregada vs Fechas')\n",
        "plt.legend(labels=[\"Pronostico ventas XGBoost\", \"Ventas reales\"])\n",
        "\n",
        "plt.show()"
      ]
    },
    {
      "cell_type": "code",
      "execution_count": 41,
      "metadata": {
        "id": "zvkca0iQNx6r"
      },
      "outputs": [],
      "source": []
    }
  ],
  "metadata": {
    "colab": {
      "provenance": []
    },
    "kernelspec": {
      "display_name": "Python 3",
      "name": "python3"
    },
    "language_info": {
      "name": "python"
    }
  },
  "nbformat": 4,
  "nbformat_minor": 0
}
